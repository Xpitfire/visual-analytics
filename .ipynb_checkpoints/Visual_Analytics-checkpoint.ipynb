{
 "cells": [
  {
   "cell_type": "markdown",
   "metadata": {
    "collapsed": true
   },
   "source": [
    "# Visual Analytics Project"
   ]
  },
  {
   "cell_type": "markdown",
   "metadata": {},
   "source": [
    "## Imports"
   ]
  },
  {
   "cell_type": "code",
   "execution_count": 3,
   "metadata": {
    "scrolled": false
   },
   "outputs": [],
   "source": [
    "# Copyright 2017 Dinu Marius-Constantin. All Rights Reserved.\n",
    "#\n",
    "# Licensed under the Apache License, Version 2.0 (the \"License\");\n",
    "# you may not use this file except in compliance with the License.\n",
    "# You may obtain a copy of the License at\n",
    "#\n",
    "#     http://www.apache.org/licenses/LICENSE-2.0\n",
    "#\n",
    "# Unless required by applicable law or agreed to in writing, software\n",
    "# distributed under the License is distributed on an \"AS IS\" BASIS,\n",
    "# WITHOUT WARRANTIES OR CONDITIONS OF ANY KIND, either express or implied.\n",
    "# See the License for the specific language governing permissions and\n",
    "# limitations under the License.\n",
    "# ==============================================================================\n",
    "\n",
    "import uuid\n",
    "from timeit import default_timer as timer\n",
    "from urllib.request import urlretrieve\n",
    "from os.path import isfile, isdir\n",
    "from tqdm import tqdm\n",
    "from tqdm import tqdm\n",
    "import tarfile\n",
    "import numpy as np\n",
    "import pandas as pd\n",
    "import matplotlib.cm as cm\n",
    "from IPython.display import clear_output\n",
    "from scipy import stats\n",
    "import networkx as nx\n",
    "from colour import Color\n",
    "from ipywidgets import interact, interactive, fixed, interact_manual\n",
    "import ipywidgets as widgets\n",
    "\n",
    "from operator import attrgetter\n",
    "import string\n",
    "import random\n",
    "import time\n",
    "import datetime\n",
    "\n",
    "%matplotlib inline\n",
    "%config InlineBackend.figure_format = 'retina'\n",
    "import matplotlib.pyplot as plt\n",
    "\n",
    "import numpy as np\n",
    "import tensorflow as tf"
   ]
  },
  {
   "cell_type": "code",
   "execution_count": 4,
   "metadata": {},
   "outputs": [],
   "source": [
    "\"\"\"\n",
    "Extension for disabling autoscrolling long output, which is super annoying sometimes\n",
    "Usage:\n",
    "    %load_ext disable_autoscroll\n",
    "You can also put the js snippet below in profile_dir/static/js/custom.js\n",
    "\"\"\"\n",
    "\n",
    "from IPython.display import display, Javascript\n",
    "\n",
    "disable_js = \"\"\"\n",
    "IPython.OutputArea.prototype._should_scroll = function(lines) {\n",
    "    return false;\n",
    "}\n",
    "\"\"\"\n",
    "\n",
    "def load_ipython_extension(ip):\n",
    "    display(Javascript(disable_js))\n",
    "    print (\"autoscrolling long output is disabled\")"
   ]
  },
  {
   "cell_type": "code",
   "execution_count": 5,
   "metadata": {},
   "outputs": [
    {
     "data": {
      "application/javascript": [
       "\n",
       "IPython.OutputArea.prototype._should_scroll = function(lines) {\n",
       "    return false;\n",
       "}\n"
      ],
      "text/plain": [
       "<IPython.core.display.Javascript object>"
      ]
     },
     "metadata": {},
     "output_type": "display_data"
    },
    {
     "name": "stdout",
     "output_type": "stream",
     "text": [
      "autoscrolling long output is disabled\n"
     ]
    }
   ],
   "source": [
    "load_ipython_extension(None)"
   ]
  },
  {
   "cell_type": "markdown",
   "metadata": {},
   "source": [
    "---"
   ]
  },
  {
   "cell_type": "markdown",
   "metadata": {},
   "source": [
    "## Define Measurement Metrics"
   ]
  },
  {
   "cell_type": "code",
   "execution_count": 12,
   "metadata": {
    "scrolled": false
   },
   "outputs": [],
   "source": [
    "def compute_weights_distance(population, layer_id, layer_shape):\n",
    "    population_size = len(population)\n",
    "    distances = np.zeros((population_size, population_size), dtype=np.float32)\n",
    "    for ii, p in enumerate(population):\n",
    "        for jj, q in enumerate(population):\n",
    "            # compute euclidean distance\n",
    "            a = np.reshape(p.gene[layer_id], layer_shape)\n",
    "            b = np.reshape(q.gene[layer_id], layer_shape)\n",
    "            c = np.power(np.abs(a-b), 2)\n",
    "            c = np.sum(c)\n",
    "            c = np.sqrt(c)\n",
    "            distances[ii, jj] = c\n",
    "    return distances"
   ]
  },
  {
   "cell_type": "code",
   "execution_count": 13,
   "metadata": {
    "scrolled": false
   },
   "outputs": [],
   "source": [
    "class ExperimentStats(object):\n",
    "    \n",
    "    def __init__(self, \n",
    "                 accuracies = None, \n",
    "                 mean_accuracies = None, \n",
    "                 median_accuracies = None,\n",
    "                 distance_matrices_layer1 = None, \n",
    "                 distance_matrices_layer2 = None,\n",
    "                 population_history = None):\n",
    "        self.accuracies = accuracies or []\n",
    "        self.mean_accuracies = mean_accuracies or []\n",
    "        self.median_accuracies = median_accuracies or []\n",
    "        self.distance_matrices_layer1 = distance_matrices_layer1 or []\n",
    "        self.distance_matrices_layer2 = distance_matrices_layer2 or []\n",
    "        self.population_history = population_history or []"
   ]
  },
  {
   "cell_type": "code",
   "execution_count": 14,
   "metadata": {
    "scrolled": false
   },
   "outputs": [],
   "source": [
    "def compute_total_distance(generation, experiment_stats):\n",
    "\n",
    "    total_distance = 0.0\n",
    "    # select the corresponding distance matrix\n",
    "    distances_layer1 = experiment_stats.distance_matrices_layer1[generation]\n",
    "    distances_layer2 = experiment_stats.distance_matrices_layer2[generation]\n",
    "    \n",
    "    # compute distance for diagonal of layer1\n",
    "    for i in range(np.shape(distances_layer1)[0]):\n",
    "        for j in range(0, np.shape(distances_layer1)[1]-i-1):\n",
    "            total_distance += distances_layer1[j][i]\n",
    "    # compute distance for diagonal of layer2\n",
    "    for i in range(np.shape(distances_layer2)[0]):\n",
    "        for j in range(0, np.shape(distances_layer2)[1]-i-1):\n",
    "            total_distance += distances_layer2[j][i]\n",
    "            \n",
    "    return total_distance"
   ]
  },
  {
   "cell_type": "markdown",
   "metadata": {},
   "source": [
    "---"
   ]
  },
  {
   "cell_type": "markdown",
   "metadata": {},
   "source": [
    "## Experiments"
   ]
  },
  {
   "cell_type": "code",
   "execution_count": 54,
   "metadata": {},
   "outputs": [],
   "source": [
    "class Individual(object):\n",
    "    \n",
    "    def __init__(self, parents=None):\n",
    "        self.gene = {}\n",
    "        self.gene[0] = [truncated_normal() for _ in range(100*784)]\n",
    "        self.gene[1] = [truncated_normal() for _ in range(100*10)]\n",
    "        self.accuracy = np.random.sample()\n",
    "        self.parents = parents or []\n",
    "        self.uid = uuid.uuid1()\n",
    "\n",
    "class Population(object):\n",
    "    \n",
    "    def __init__(self):\n",
    "        self.generation = 0\n",
    "        self.max_generations = 10\n",
    "        self.population = []\n",
    "        for i in range(10):\n",
    "            ind = Individual()\n",
    "            self.population.append(ind)\n",
    "            \n",
    "    def simulate_train(self, parents=None):\n",
    "        self.population = []\n",
    "        for i in range(10):\n",
    "            ind = Individual(parents)\n",
    "            self.population.append(ind)\n"
   ]
  },
  {
   "cell_type": "code",
   "execution_count": 66,
   "metadata": {
    "scrolled": false
   },
   "outputs": [],
   "source": [
    "def execute():\n",
    "    \n",
    "    population = Population()\n",
    "\n",
    "    # define auxiliary experiment stats object\n",
    "    experiment_stats = ExperimentStats()\n",
    "    # store the initial population\n",
    "    experiment_stats.population_history.append(population.population)\n",
    "\n",
    "    for i in range(population.max_generations):\n",
    "        \n",
    "        male_id = np.random.randint(0, len(population.population))\n",
    "        female_id = np.random.randint(0, len(population.population))\n",
    "        parents = [population.population[male_id].uid, population.population[female_id].uid]\n",
    "        population.simulate_train(parents)\n",
    "        \n",
    "        # same the performance results\n",
    "        experiment_stats.accuracies.append(np.random.sample())\n",
    "        experiment_stats.mean_accuracies.append(np.random.sample())\n",
    "        experiment_stats.median_accuracies.append(np.random.sample())\n",
    "        # compute distances over the population\n",
    "        experiment_stats.distance_matrices_layer1.append(\n",
    "            compute_weights_distance(population.population, 0, (-1, 100)))\n",
    "        experiment_stats.distance_matrices_layer2.append(\n",
    "            compute_weights_distance(population.population, 1, (-1, 10)))\n",
    "\n",
    "        experiment_stats.population_history.append(population.population)\n",
    "\n",
    "    return (population, experiment_stats)"
   ]
  },
  {
   "cell_type": "code",
   "execution_count": 67,
   "metadata": {},
   "outputs": [],
   "source": [
    "population, experiment_stats = execute()"
   ]
  },
  {
   "cell_type": "code",
   "execution_count": 68,
   "metadata": {},
   "outputs": [],
   "source": [
    "t1_best_individ, t1_population, t1_experiment_stats = population.population[0], population, experiment_stats\n",
    "t2_best_individ, t2_population, t2_experiment_stats = population.population[0], population, experiment_stats"
   ]
  },
  {
   "cell_type": "markdown",
   "metadata": {},
   "source": [
    "---"
   ]
  },
  {
   "cell_type": "markdown",
   "metadata": {},
   "source": [
    "## Visualizations"
   ]
  },
  {
   "cell_type": "markdown",
   "metadata": {},
   "source": [
    "<div class=\"alert alert-info\">\n",
    "This section tries to find representations to visualize the weights and find similarity patterns accross neurons.\n",
    "</div>"
   ]
  },
  {
   "cell_type": "markdown",
   "metadata": {},
   "source": [
    "### Visualize Individual Similarities"
   ]
  },
  {
   "cell_type": "code",
   "execution_count": 69,
   "metadata": {
    "scrolled": false
   },
   "outputs": [],
   "source": [
    "def plot_total_distances(population, experiment_stats):\n",
    "    \n",
    "    generations = [g for g in range(population.max_generations)]\n",
    "    total_distances = [compute_total_distance(g, experiment_stats) for g in generations]\n",
    "    \n",
    "    plt.plot(generations, total_distances, 'o--')\n",
    "    plt.title('Population Similarities over Time')\n",
    "    plt.xlabel('Generations')\n",
    "    plt.ylabel('Total Similarity')\n",
    "    plt.xticks([i for i in generations if i%2==0])\n",
    "    plt.show()\n",
    "    \n",
    "def plot_population_similarities(distances):\n",
    "    \n",
    "    plt.figure(figsize=(11, 4))\n",
    "    \n",
    "    # visualize the distance matrix\n",
    "    plt.subplot(1, 2, 1)\n",
    "    plt.imshow(distances, interpolation='nearest', cmap=plt.cm.ocean, aspect='auto')\n",
    "    plt.title('Similarity matrix comparing population individuals')\n",
    "    plt.xlabel('Individuals')\n",
    "    plt.ylabel('Individuals')\n",
    "    plt.gca().invert_yaxis()\n",
    "    plt.colorbar()\n",
    "    \n",
    "    distances_hist = []\n",
    "    # take only upper half of the matrix due to symmetry\n",
    "    for i in range(np.shape(distances)[0]):\n",
    "        for j in range(0, np.shape(distances)[1]-i-1):\n",
    "            distances_hist.append(distances[j][i])\n",
    "    \n",
    "    # visualize the distance histogram\n",
    "    plt.subplot(1, 2, 2)\n",
    "    plt.hist(distances_hist)\n",
    "    plt.title('Histogram of distance distributions')\n",
    "    plt.xlabel('Distance value')\n",
    "    plt.ylabel('Number of occurences')\n",
    "    plt.tight_layout()\n",
    "    plt.show()\n",
    "    \n",
    "def plot_population_accuracies(population):\n",
    "    plt.figure(figsize=(13, 4))\n",
    "    \n",
    "    # visualize the population accuracies of the current training step\n",
    "    plt.subplot(1, 2, 1)\n",
    "    ticks = [i for i in range(len(population))]\n",
    "    plt.plot(ticks, [a.accuracy for a in population], 'o--')\n",
    "    plt.title('Population Performance Individuals')\n",
    "    plt.xlabel('Individuals')\n",
    "    plt.ylabel('Accuracy')\n",
    "    plt.xticks([i for i in ticks if i%2==0])\n",
    "    \n",
    "    plt.subplot(1, 2, 2)\n",
    "    plt.hist([a.accuracy for a in population])\n",
    "    plt.title('Population Performance Histogram')\n",
    "    plt.xlabel('Accuracy')\n",
    "    plt.ylabel('Number of occurences')\n",
    "    \n",
    "    plt.show()"
   ]
  },
  {
   "cell_type": "markdown",
   "metadata": {},
   "source": [
    "### Visualize Weight Matrices"
   ]
  },
  {
   "cell_type": "code",
   "execution_count": 70,
   "metadata": {
    "scrolled": false
   },
   "outputs": [],
   "source": [
    "def plot_training_results(population, accuracies, mean_accuracies, median_accuracies):\n",
    "    # plot the generation evolution performances\n",
    "    acc_plot = plt.subplot(111)\n",
    "    acc_plot.set_title('Population Performance')\n",
    "    generations = [i for i in range(len(accuracies))]\n",
    "    acc_plot.plot(generations, accuracies, 'r', label='Best Individual')\n",
    "    acc_plot.plot(generations, mean_accuracies, 'b', label='Mean Accuracy')\n",
    "    acc_plot.plot(generations, median_accuracies, 'g', label='Median Accuracy')\n",
    "    acc_plot.set_ylim([0, 1.0])\n",
    "    acc_plot.set_ylabel('Accuracy')\n",
    "    acc_plot.set_xlabel('Iterations')\n",
    "    plt.legend()\n",
    "    plt.tight_layout()\n",
    "    plt.show()\n",
    "\n",
    "def show_weights(individual1,\n",
    "                 individual2,\n",
    "                 option,\n",
    "                 weights_id,\n",
    "                 weights_shape,\n",
    "                 vmin, vmax):\n",
    "    # select population for computation\n",
    "    best_individ, population, experiment_stats = (t1_best_individ, t1_population, t1_experiment_stats) if option else (t2_best_individ, t2_population, t2_experiment_stats)\n",
    "\n",
    "    # vector/matrix shapes:\n",
    "    # vector: 28x28 => 784 gray scale pixels input\n",
    "    # neurons: 100 => 784x100 => 78400 weights (each neuron has 784 weights)\n",
    "    # 10 out of 100 neurons\n",
    "    mat1 = np.reshape(population.population[individual1].gene[weights_id], weights_shape)\n",
    "    mat2 = np.reshape(population.population[individual2].gene[weights_id], weights_shape)\n",
    "    \n",
    "    # show detailed view of neurons\n",
    "    def show_detailed_neuron_plot1(neuron_id1, neuron_id2):\n",
    "        plt.figure(figsize=(11, 4))\n",
    "\n",
    "        plt.subplot(121)\n",
    "        plt.plot(np.reshape(mat1[neuron_id1], (-1)))\n",
    "        plt.title('Show neuron details individual {}'.format(individual1))\n",
    "        plt.xlabel('weights')\n",
    "        plt.ylabel('values')\n",
    "\n",
    "        plt.subplot(122)\n",
    "        plt.plot(np.reshape(mat2[neuron_id2], (-1)))\n",
    "        plt.title('Show neuron details individual {}'.format(individual2))\n",
    "        plt.xlabel('weights')\n",
    "        plt.ylabel('values')\n",
    "        plt.show()\n",
    "    \n",
    "    # detailed neuron view\n",
    "    print('Print Neuron Detail View:')\n",
    "    interact(show_detailed_neuron_plot1, \n",
    "             neuron_id1=widgets.IntSlider(min=0, max=len(mat1)-1, step=1, value=0), \n",
    "             neuron_id2=widgets.IntSlider(min=0, max=len(mat2)-1, step=1, value=0));\n",
    "    \n",
    "    print('Show detailed neuron matrix: range (min {}, max {})'.format(vmin, vmax))\n",
    "    \n",
    "    # show single value for illustrating the colorbar and legend\n",
    "    plt.imshow(mat1[0], interpolation='nearest', cmap=plt.cm.ocean, aspect='auto', vmin=vmin, vmax=vmax)\n",
    "    plt.title('Weights Visualization of a single Neuron')\n",
    "    plt.xlabel('weight columns')\n",
    "    plt.ylabel('weight rows')\n",
    "    plt.colorbar()\n",
    "    plt.show()\n",
    "    \n",
    "    # define the first individual\n",
    "    print('Individual {} layer {} neurons:'.format(individual1, weights_id))\n",
    "    plt.figure(figsize=(15, 15))\n",
    "    for ii in range(np.shape(mat1)[0]):\n",
    "        plt.subplot(10, 10, ii+1)\n",
    "        plt.xticks([])\n",
    "        plt.yticks([])\n",
    "        plt.imshow(mat1[ii], interpolation='nearest', cmap=plt.cm.ocean, aspect='auto', vmin=vmin, vmax=vmax)\n",
    "    \n",
    "    # make some space and show\n",
    "    plt.subplots_adjust(top=0.92, bottom=0.08, left=0.10, right=0.95, hspace=0.25, wspace=0.35)\n",
    "    plt.show()\n",
    "    \n",
    "    # define the first individual\n",
    "    print('Individual {} layer {} neurons:'.format(individual2, weights_id))\n",
    "    plt.figure(figsize=(15, 15))\n",
    "    for ii in range(np.shape(mat1)[0]):\n",
    "        plt.subplot(10, 10, ii+1)\n",
    "        plt.xticks([])\n",
    "        plt.yticks([])\n",
    "        plt.imshow(mat2[ii], interpolation='nearest', cmap=plt.cm.ocean, aspect='auto', vmin=vmin, vmax=vmax)\n",
    "        \n",
    "    # make some space and show\n",
    "    plt.subplots_adjust(top=0.92, bottom=0.08, left=0.10, right=0.95, hspace=0.25, wspace=0.35)\n",
    "    plt.show()\n",
    "    "
   ]
  },
  {
   "cell_type": "markdown",
   "metadata": {},
   "source": [
    "### Visualize Summary"
   ]
  },
  {
   "cell_type": "code",
   "execution_count": 71,
   "metadata": {},
   "outputs": [],
   "source": [
    "def show_population_history(population_history):\n",
    "    plt.figure(figsize=(10,10))\n",
    "    graph = nx.Graph()\n",
    "    # define nodes and edges according to the population history\n",
    "    edges = []\n",
    "    colored_nodes = []\n",
    "    \n",
    "    generation_cnt = 0\n",
    "    for generation in population_history:\n",
    "        nodes = []\n",
    "        for individual in generation:\n",
    "            graph.add_node(individual.uid)\n",
    "            nodes.append(individual.uid)\n",
    "            for parent in individual.parents:\n",
    "                graph.add_edge(individual.uid, parent)\n",
    "                edges.append((individual.uid, parent))\n",
    "        colored_nodes.append(nodes)\n",
    "        generation_cnt += 1\n",
    "    pos = nx.spring_layout(graph, k=0.5, iterations=150)\n",
    "    # create color spectrum\n",
    "    col_node_len = len(colored_nodes)\n",
    "    red = Color(\"red\")\n",
    "    colors = list(red.range_to(Color(\"green\"), col_node_len+1))\n",
    "    # color the generation nodes\n",
    "    for i, nodes in enumerate(colored_nodes):\n",
    "        node_shape = '^' if i == 0 else 'o'\n",
    "        node_shape = 's' if i == col_node_len-1 else node_shape\n",
    "        nx.draw_networkx_nodes(graph, pos,\n",
    "                           nodelist=nodes,\n",
    "                           node_color=str(colors[i]),\n",
    "                           node_size=80,\n",
    "                           node_shape=node_shape,\n",
    "                           alpha=0.8)\n",
    "    # draw the edges\n",
    "    nx.draw_networkx_edges(graph, pos,\n",
    "                          edgelist=edges)\n",
    "    plt.title('Phylogenetic Tree of the population evolution')\n",
    "    plt.xticks([])\n",
    "    plt.yticks([])\n",
    "    plt.show()\n",
    "    \n",
    "def show_summary_statistics(option):\n",
    "    # select population for computation\n",
    "    best_individ, population, experiment_stats = (t1_best_individ, t1_population, t1_experiment_stats) if option else (t2_best_individ, t2_population, t2_experiment_stats)\n",
    "    \n",
    "    # plot experiment results again\n",
    "    plot_training_results(population,\n",
    "                          experiment_stats.accuracies, \n",
    "                          experiment_stats.mean_accuracies,\n",
    "                          experiment_stats.median_accuracies)\n",
    "\n",
    "    # plot total similarities over time\n",
    "    plot_total_distances(population, experiment_stats)\n",
    "\n",
    "    show_population_history(experiment_stats.population_history)\n",
    "\n",
    "    print('\\n\\nFinal results statistics of the weight matrices:\\n\\n')\n",
    "\n",
    "    plot_population_accuracies(population.population)\n",
    "    \n",
    "    print('\\nPlotting layer 1 similarities of all individuals (0 = similar, > 0 distance)')\n",
    "\n",
    "    # plot layer 1 similarities\n",
    "    layer_id = 0\n",
    "    layer_shape = (-1, 100)\n",
    "    distances = compute_weights_distance(population.population, layer_id, layer_shape)\n",
    "    plot_population_similarities(distances)\n",
    "    \n",
    "    print('\\nPlotting layer 2 similarities of all individuals (0 = similar, > 0 distance)')\n",
    "\n",
    "    # plot layer 2 similarities\n",
    "    layer_id = 1\n",
    "    layer_shape = (-1, 10)\n",
    "    distances = compute_weights_distance(population.population, layer_id, layer_shape)\n",
    "    plot_population_similarities(distances)\n",
    "    \n",
    "def interactive_show_weights(option):\n",
    "    # visualize the matrices\n",
    "    layer1_id = 0\n",
    "    layer1_reshape_form = (-1, 28, 28)\n",
    "    layer2_id = 1\n",
    "    layer2_reshape_form = (-1, 10, 10)\n",
    "    \n",
    "    def inner_option(individual1, individual2, range_min, range_max):\n",
    "        show_weights(individual1, individual2, option,\n",
    "                     layer2_id,\n",
    "                     layer2_reshape_form,\n",
    "                     range_min, range_max)\n",
    "        show_weights(individual1, individual2, option,\n",
    "                     layer1_id,\n",
    "                     layer1_reshape_form,\n",
    "                     range_min, range_max)\n",
    "        \n",
    "    population = t1_population.population if option else t2_population.population\n",
    "    \n",
    "    # widged settings to select the corresponding individuals and test case\n",
    "    view_range_min = widgets.FloatSlider(min=-1.0, max=0.0, step=0.01, value=-0.3)\n",
    "    view_range_max = widgets.FloatSlider(min=0.0, max=1.0, step=0.01, value=0.3)\n",
    "    individual0 = widgets.IntSlider(min=0, max=len(population)-1, step=1, value=0)\n",
    "    individual1 = widgets.IntSlider(min=0, max=len(population)-1, step=1, value=0)\n",
    "    interact_manual(inner_option, individual1=individual0, individual2=individual1, range_min=view_range_min, range_max=view_range_max)"
   ]
  },
  {
   "cell_type": "markdown",
   "metadata": {},
   "source": [
    "### Show resutls"
   ]
  },
  {
   "cell_type": "markdown",
   "metadata": {},
   "source": [
    "**Select the trained population for visualization:**"
   ]
  },
  {
   "cell_type": "code",
   "execution_count": 72,
   "metadata": {
    "scrolled": false
   },
   "outputs": [
    {
     "data": {
      "application/vnd.jupyter.widget-view+json": {
       "model_id": "0f18471ad5e945a4aff40fc7ea35c4e0",
       "version_major": 2,
       "version_minor": 0
      },
      "text/html": [
       "<p>Failed to display Jupyter Widget of type <code>interactive</code>.</p>\n",
       "<p>\n",
       "  If you're reading this message in the Jupyter Notebook or JupyterLab Notebook, it may mean\n",
       "  that the widgets JavaScript is still loading. If this message persists, it\n",
       "  likely means that the widgets JavaScript library is either not installed or\n",
       "  not enabled. See the <a href=\"https://ipywidgets.readthedocs.io/en/stable/user_install.html\">Jupyter\n",
       "  Widgets Documentation</a> for setup instructions.\n",
       "</p>\n",
       "<p>\n",
       "  If you're reading this message in another frontend (for example, a static\n",
       "  rendering on GitHub or <a href=\"https://nbviewer.jupyter.org/\">NBViewer</a>),\n",
       "  it may mean that your frontend doesn't currently support widgets.\n",
       "</p>\n"
      ],
      "text/plain": [
       "interactive(children=(Dropdown(description='option', options={'Approx X-Over': False, 'Basic X-Over': True}, value=False), Button(description='Run Interact', style=ButtonStyle()), Output()), _dom_classes=('widget-interact',))"
      ]
     },
     "metadata": {},
     "output_type": "display_data"
    }
   ],
   "source": [
    "# widged settings to select the corresponding individuals and test case\n",
    "x={'Basic X-Over': True, 'Approx X-Over': False}\n",
    "interact_manual(show_summary_statistics, option=x);"
   ]
  },
  {
   "cell_type": "code",
   "execution_count": 73,
   "metadata": {
    "scrolled": false
   },
   "outputs": [
    {
     "data": {
      "application/vnd.jupyter.widget-view+json": {
       "model_id": "0acd426607ed4a4ea4871eb7bf47e9ca",
       "version_major": 2,
       "version_minor": 0
      },
      "text/html": [
       "<p>Failed to display Jupyter Widget of type <code>interactive</code>.</p>\n",
       "<p>\n",
       "  If you're reading this message in the Jupyter Notebook or JupyterLab Notebook, it may mean\n",
       "  that the widgets JavaScript is still loading. If this message persists, it\n",
       "  likely means that the widgets JavaScript library is either not installed or\n",
       "  not enabled. See the <a href=\"https://ipywidgets.readthedocs.io/en/stable/user_install.html\">Jupyter\n",
       "  Widgets Documentation</a> for setup instructions.\n",
       "</p>\n",
       "<p>\n",
       "  If you're reading this message in another frontend (for example, a static\n",
       "  rendering on GitHub or <a href=\"https://nbviewer.jupyter.org/\">NBViewer</a>),\n",
       "  it may mean that your frontend doesn't currently support widgets.\n",
       "</p>\n"
      ],
      "text/plain": [
       "interactive(children=(Dropdown(description='option', options={'Approx X-Over': False, 'Basic X-Over': True}, value=False), Button(description='Run Interact', style=ButtonStyle()), Output()), _dom_classes=('widget-interact',))"
      ]
     },
     "metadata": {},
     "output_type": "display_data"
    }
   ],
   "source": [
    "x={'Basic X-Over': True, 'Approx X-Over': False}\n",
    "select_pop = widgets.Dropdown(options=x)\n",
    "interact_manual(interactive_show_weights, option=select_pop);"
   ]
  },
  {
   "cell_type": "code",
   "execution_count": null,
   "metadata": {
    "collapsed": true
   },
   "outputs": [],
   "source": []
  }
 ],
 "metadata": {
  "kernelspec": {
   "display_name": "Python 3",
   "language": "python",
   "name": "python3"
  },
  "language_info": {
   "codemirror_mode": {
    "name": "ipython",
    "version": 3
   },
   "file_extension": ".py",
   "mimetype": "text/x-python",
   "name": "python",
   "nbconvert_exporter": "python",
   "pygments_lexer": "ipython3",
   "version": "3.5.4"
  }
 },
 "nbformat": 4,
 "nbformat_minor": 2
}
